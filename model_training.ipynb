{
  "cells": [
    {
      "cell_type": "code",
      "execution_count": null,
      "metadata": {
        "colab": {
          "base_uri": "https://localhost:8080/"
        },
        "id": "qr-iAVjEr_XP",
        "outputId": "86b3a890-eb79-4426-de1c-7ed696673e82"
      },
      "outputs": [],
      "source": [
        "# model_training.ipynb\n",
        "\n",
        "import pandas as pd\n",
        "import numpy as np\n",
        "from sklearn.ensemble import RandomForestClassifier\n",
        "from sklearn.model_selection import train_test_split\n",
        "from sklearn.metrics import accuracy_score\n",
        "import joblib\n",
        "\n",
        "# 1. Load the forestfires.csv dataset\n",
        "df = pd.read_csv(\"forestfires.csv\")\n",
        "\n",
        "# Typical columns in forestfires.csv:\n",
        "# X, Y, month, day, FFMC, DMC, DC, ISI, temp, RH, wind, rain, area\n",
        "# month and day are strings (e.g. \"mar\", \"sun\"), so we must convert them to numeric.\n",
        "\n",
        "# 2. Convert 'month' from string to numeric (jan=1, feb=2, etc.)\n",
        "month_map = {\n",
        "    'jan':1, 'feb':2, 'mar':3, 'apr':4, 'may':5, 'jun':6,\n",
        "    'jul':7, 'aug':8, 'sep':9, 'oct':10, 'nov':11, 'dec':12\n",
        "}\n",
        "df[\"month\"] = df[\"month\"].str.lower().map(month_map)\n",
        "\n",
        "# 3. Convert 'day' from string to numeric (mon=1, tue=2, etc.)\n",
        "day_map = {\n",
        "    'mon':1, 'tue':2, 'wed':3, 'thu':4, 'fri':5, 'sat':6, 'sun':7\n",
        "}\n",
        "df[\"day\"] = df[\"day\"].str.lower().map(day_map)\n",
        "\n",
        "# 4. Create a binary target: fire=1 if area>0, else 0\n",
        "df[\"fire\"] = (df[\"area\"] > 0).astype(int)\n",
        "\n",
        "# 5. Define features and target\n",
        "# We'll ignore 'area' now that we have a fire/no-fire target\n",
        "feature_cols = [\"X\",\"Y\",\"month\",\"day\",\"FFMC\",\"DMC\",\"DC\",\"ISI\",\"temp\",\"RH\",\"wind\",\"rain\"]\n",
        "X = df[feature_cols]\n",
        "y = df[\"fire\"]\n",
        "\n",
        "# 6. Split into train/test\n",
        "X_train, X_test, y_train, y_test = train_test_split(X, y,\n",
        "                                                    test_size=0.2,\n",
        "                                                    random_state=42,\n",
        "                                                    stratify=y)\n",
        "\n",
        "# 7. Train a RandomForest\n",
        "model = RandomForestClassifier(n_estimators=100, random_state=42)\n",
        "model.fit(X_train, y_train)\n",
        "\n",
        "# 8. Evaluate\n",
        "y_pred = model.predict(X_test)\n",
        "acc = accuracy_score(y_test, y_pred)\n",
        "print(\"Test Accuracy:\", acc)\n",
        "\n",
        "# 9. Save the model\n",
        "joblib.dump(model, \"forest_fire_model.pkl\")\n",
        "print(\"Model saved as forest_fire_model.pkl\")\n"
      ]
    }
  ],
  "metadata": {
    "colab": {
      "provenance": []
    },
    "kernelspec": {
      "display_name": "Python 3",
      "name": "python3"
    },
    "language_info": {
      "name": "python",
      "version": "3.13.2"
    }
  },
  "nbformat": 4,
  "nbformat_minor": 0
}
